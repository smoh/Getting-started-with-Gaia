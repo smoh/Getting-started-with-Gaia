{
 "cells": [
  {
   "cell_type": "markdown",
   "metadata": {},
   "source": [
    "There are several ways to cross-match an external catalog with Gaia DR2 sources.\n",
    "\n",
    "## Using web interface\n",
    "\n",
    "First, while it is possible to upload a catalog for querying anonymously, the web interface at the official Gaia Archive does not seem to provide this functionality. Only a list of target 'names' can be provided with the current interface (see [Using anynomous upload](#Using-anynomous-upload)).\n",
    "\n",
    "If you still prefer using the web interface to scripting:\n",
    "\n",
    "1. create an account, which grants you 1GB of user tables quota, and login.\n",
    "2. Go to Search > ADQL Tab and upload your table. It can be provided in VOTable, CSV or ASCII. Once it is uploaded, you will see it under \"User Tables\" as `user_[username].[tablename]`.\n",
    "3. You can now use this table just like any other table in the database. For example, to cross-match `user_joe.mytable` with `gaiadr2.gaia_source`:\n",
    "\n",
    "```sql\n",
    "SELECT t1.ra AS \"t1_ra\", t1.dec AS \"t1_dec\", t2.ra AS \"gaia_ra\", t2.dec AS \"gaia_dec\", ...\n",
    "FROM user_joe.mytable AS t1, gaiadr2.gaia_source AS t2\n",
    "WHERE 1 = CONTAINS(POINT('ICRS', t1.ra, t1.dec), CIRCLE('ICRS', t2.ra, t2.dec));\n",
    "```\n",
    "\n",
    "- **NOTE**: The uploaded user tables can be edited. Check box of a table and click 'Edit table'. Specifically, you can assign RA and Dec columns, which will make those columns indexed. I suppose this may help the cross-match to be faster but I am not sure if it matters much with smaller tables.\n",
    "\n",
    "- **NOTE**: There is also 'Cross-match tables' button, which does this query for you.\n",
    "\n",
    "- **NOTE**: It is much faster to do\n",
    "```sql\n",
    "1 = CONTAINS(POINT(smaller_catalog), CIRCLE(larger_catalog))\n",
    "```\n",
    "than the other way around.\n",
    "\n",
    "- **NOTE**: If you are planning to combine the resulting table with other tables, it can be useful to have some internal index to check unique/non-existent entries as well as merging tables. You can also do a `LEFT JOIN` instead:\n",
    "\n",
    "```sql\n",
    "SELECT t1.ra AS \"t1_ra\", t1.dec AS \"t1_dec\", t2.ra AS \"gaia_ra\", t2.dec AS \"gaia_dec\", ...\n",
    "FROM user_joe.mytable AS t1\n",
    "LEFT JOIN gaiadr2.gaia_source AS t2\n",
    "  ON 1 = CONTAINS(POINT('ICRS', t1.ra, t1.dec), CIRCLE('ICRS', t2.ra, t2.dec));\n",
    "```\n",
    "\n",
    "This way, the result will containt matches for every row in t1:\n",
    "- it will contain t1 rows without any matches\n",
    "- it can contain duplicated t1 rows if there are multiple matches to a single row in t1.\n"
   ]
  },
  {
   "cell_type": "markdown",
   "metadata": {},
   "source": [
    "## Using astroquery.gaia\n",
    "\n",
    "### Using user tables - NOT AVAILABLE YET!\n",
    "\n",
    "(This feature is not available yet but it probably will be soon as there's work being done. Ignore for now.)\n",
    "\n",
    "The same action above, uploading a table to user space and using it to run queries, can be done in python with `astroquery.gaia` module. \n",
    "\n",
    "```python\n",
    "from astroquery.gaia import Gaia\n",
    "\n",
    "Gaia.login()   # will ask username and password\n",
    "\n",
    "Gaia.upload_user_table(...)\n",
    "```\n",
    "\n",
    "### Using anonymous upload\n",
    "\n",
    "You do not have to upload a table to user space with an account. You can use on-the-fly uploaded tables in your synchronous or asynchronous cross-matches (This is the functionality that the web interface seems to be missing).\n",
    "\n",
    "See https://astroquery.readthedocs.io/en/latest/gaia/gaia.html for details.\n",
    "\n",
    "Note that anonymous uploads fall under `TAP_UPLOAD` schema instead of `user_[username]`."
   ]
  },
  {
   "cell_type": "markdown",
   "metadata": {},
   "source": [
    "## Using CDS xMatch\n",
    "\n",
    "It is also possible to use [CDS xmatch service](http://cdsxmatch.u-strasbg.fr/#tab=xmatch&) as CDS also hosts the entire Gaia DR2 data. This can be particularly useful if you want to use other tables from hosted at CDS like machine-readable tables published in journal articles.\n",
    "\n",
    "Astroquery has a python interface to the service: https://astroquery.readthedocs.io/en/latest/xmatch/xmatch.html.\n"
   ]
  },
  {
   "cell_type": "code",
   "execution_count": null,
   "metadata": {},
   "outputs": [],
   "source": []
  }
 ],
 "metadata": {
  "kernelspec": {
   "display_name": "Python 3",
   "language": "python",
   "name": "python3"
  },
  "language_info": {
   "codemirror_mode": {
    "name": "ipython",
    "version": 3
   },
   "file_extension": ".py",
   "mimetype": "text/x-python",
   "name": "python",
   "nbconvert_exporter": "python",
   "pygments_lexer": "ipython3",
   "version": "3.7.1"
  }
 },
 "nbformat": 4,
 "nbformat_minor": 2
}
